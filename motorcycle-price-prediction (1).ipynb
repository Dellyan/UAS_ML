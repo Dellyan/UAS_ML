{
 "cells": [
  {
   "cell_type": "code",
   "execution_count": 1,
   "id": "381a0009",
   "metadata": {
    "_cell_guid": "b1076dfc-b9ad-4769-8c92-a6c4dae69d19",
    "_uuid": "8f2839f25d086af736a60e9eeb907d3b93b6e0e5",
    "execution": {
     "iopub.execute_input": "2021-09-08T21:54:45.193318Z",
     "iopub.status.busy": "2021-09-08T21:54:45.192087Z",
     "iopub.status.idle": "2021-09-08T21:54:46.241908Z",
     "shell.execute_reply": "2021-09-08T21:54:46.242493Z",
     "shell.execute_reply.started": "2021-09-08T21:28:20.330304Z"
    },
    "papermill": {
     "duration": 1.098121,
     "end_time": "2021-09-08T21:54:46.242815",
     "exception": false,
     "start_time": "2021-09-08T21:54:45.144694",
     "status": "completed"
    },
    "tags": []
   },
   "outputs": [],
   "source": [
    "import numpy as np\n",
    "import pandas as pd\n",
    "import matplotlib.pyplot as plt\n",
    "import seaborn as sns"
   ]
  },
  {
   "cell_type": "code",
   "execution_count": 2,
   "id": "120754b9",
   "metadata": {
    "execution": {
     "iopub.execute_input": "2021-09-08T21:54:46.334091Z",
     "iopub.status.busy": "2021-09-08T21:54:46.333286Z",
     "iopub.status.idle": "2021-09-08T21:54:46.354550Z",
     "shell.execute_reply": "2021-09-08T21:54:46.353811Z",
     "shell.execute_reply.started": "2021-09-08T21:29:10.341447Z"
    },
    "papermill": {
     "duration": 0.068251,
     "end_time": "2021-09-08T21:54:46.354717",
     "exception": false,
     "start_time": "2021-09-08T21:54:46.286466",
     "status": "completed"
    },
    "tags": []
   },
   "outputs": [],
   "source": [
    "df = pd.read_csv('../input/motorcycle-dataset/BIKE DETAILS.csv')"
   ]
  },
  {
   "cell_type": "code",
   "execution_count": 3,
   "id": "19914500",
   "metadata": {
    "execution": {
     "iopub.execute_input": "2021-09-08T21:54:46.455255Z",
     "iopub.status.busy": "2021-09-08T21:54:46.454241Z",
     "iopub.status.idle": "2021-09-08T21:54:46.480323Z",
     "shell.execute_reply": "2021-09-08T21:54:46.479780Z",
     "shell.execute_reply.started": "2021-09-08T21:29:21.453320Z"
    },
    "papermill": {
     "duration": 0.081352,
     "end_time": "2021-09-08T21:54:46.480469",
     "exception": false,
     "start_time": "2021-09-08T21:54:46.399117",
     "status": "completed"
    },
    "tags": []
   },
   "outputs": [
    {
     "data": {
      "text/html": [
       "<div>\n",
       "<style scoped>\n",
       "    .dataframe tbody tr th:only-of-type {\n",
       "        vertical-align: middle;\n",
       "    }\n",
       "\n",
       "    .dataframe tbody tr th {\n",
       "        vertical-align: top;\n",
       "    }\n",
       "\n",
       "    .dataframe thead th {\n",
       "        text-align: right;\n",
       "    }\n",
       "</style>\n",
       "<table border=\"1\" class=\"dataframe\">\n",
       "  <thead>\n",
       "    <tr style=\"text-align: right;\">\n",
       "      <th></th>\n",
       "      <th>name</th>\n",
       "      <th>selling_price</th>\n",
       "      <th>year</th>\n",
       "      <th>seller_type</th>\n",
       "      <th>owner</th>\n",
       "      <th>km_driven</th>\n",
       "      <th>ex_showroom_price</th>\n",
       "    </tr>\n",
       "  </thead>\n",
       "  <tbody>\n",
       "    <tr>\n",
       "      <th>0</th>\n",
       "      <td>Royal Enfield Classic 350</td>\n",
       "      <td>175000</td>\n",
       "      <td>2019</td>\n",
       "      <td>Individual</td>\n",
       "      <td>1st owner</td>\n",
       "      <td>350</td>\n",
       "      <td>NaN</td>\n",
       "    </tr>\n",
       "    <tr>\n",
       "      <th>1</th>\n",
       "      <td>Honda Dio</td>\n",
       "      <td>45000</td>\n",
       "      <td>2017</td>\n",
       "      <td>Individual</td>\n",
       "      <td>1st owner</td>\n",
       "      <td>5650</td>\n",
       "      <td>NaN</td>\n",
       "    </tr>\n",
       "    <tr>\n",
       "      <th>2</th>\n",
       "      <td>Royal Enfield Classic Gunmetal Grey</td>\n",
       "      <td>150000</td>\n",
       "      <td>2018</td>\n",
       "      <td>Individual</td>\n",
       "      <td>1st owner</td>\n",
       "      <td>12000</td>\n",
       "      <td>148114.0</td>\n",
       "    </tr>\n",
       "    <tr>\n",
       "      <th>3</th>\n",
       "      <td>Yamaha Fazer FI V 2.0 [2016-2018]</td>\n",
       "      <td>65000</td>\n",
       "      <td>2015</td>\n",
       "      <td>Individual</td>\n",
       "      <td>1st owner</td>\n",
       "      <td>23000</td>\n",
       "      <td>89643.0</td>\n",
       "    </tr>\n",
       "    <tr>\n",
       "      <th>4</th>\n",
       "      <td>Yamaha SZ [2013-2014]</td>\n",
       "      <td>20000</td>\n",
       "      <td>2011</td>\n",
       "      <td>Individual</td>\n",
       "      <td>2nd owner</td>\n",
       "      <td>21000</td>\n",
       "      <td>NaN</td>\n",
       "    </tr>\n",
       "  </tbody>\n",
       "</table>\n",
       "</div>"
      ],
      "text/plain": [
       "                                  name  selling_price  year seller_type  \\\n",
       "0            Royal Enfield Classic 350         175000  2019  Individual   \n",
       "1                            Honda Dio          45000  2017  Individual   \n",
       "2  Royal Enfield Classic Gunmetal Grey         150000  2018  Individual   \n",
       "3    Yamaha Fazer FI V 2.0 [2016-2018]          65000  2015  Individual   \n",
       "4                Yamaha SZ [2013-2014]          20000  2011  Individual   \n",
       "\n",
       "       owner  km_driven  ex_showroom_price  \n",
       "0  1st owner        350                NaN  \n",
       "1  1st owner       5650                NaN  \n",
       "2  1st owner      12000           148114.0  \n",
       "3  1st owner      23000            89643.0  \n",
       "4  2nd owner      21000                NaN  "
      ]
     },
     "execution_count": 3,
     "metadata": {},
     "output_type": "execute_result"
    }
   ],
   "source": [
    "df.head()"
   ]
  },
  {
   "cell_type": "code",
   "execution_count": 4,
   "id": "00b2eb40",
   "metadata": {
    "execution": {
     "iopub.execute_input": "2021-09-08T21:54:46.573783Z",
     "iopub.status.busy": "2021-09-08T21:54:46.573084Z",
     "iopub.status.idle": "2021-09-08T21:54:46.576044Z",
     "shell.execute_reply": "2021-09-08T21:54:46.576587Z",
     "shell.execute_reply.started": "2021-09-08T21:29:33.424568Z"
    },
    "papermill": {
     "duration": 0.054599,
     "end_time": "2021-09-08T21:54:46.576763",
     "exception": false,
     "start_time": "2021-09-08T21:54:46.522164",
     "status": "completed"
    },
    "tags": []
   },
   "outputs": [
    {
     "data": {
      "text/plain": [
       "name                   0\n",
       "selling_price          0\n",
       "year                   0\n",
       "seller_type            0\n",
       "owner                  0\n",
       "km_driven              0\n",
       "ex_showroom_price    435\n",
       "dtype: int64"
      ]
     },
     "execution_count": 4,
     "metadata": {},
     "output_type": "execute_result"
    }
   ],
   "source": [
    "df.isnull().sum()"
   ]
  },
  {
   "cell_type": "markdown",
   "id": "a8b7ac54",
   "metadata": {
    "papermill": {
     "duration": 0.04181,
     "end_time": "2021-09-08T21:54:46.660075",
     "exception": false,
     "start_time": "2021-09-08T21:54:46.618265",
     "status": "completed"
    },
    "tags": []
   },
   "source": [
    "Let's drop the 'ex_showroom_price' column, since it has a whole lot of missing values and personally I believe that this feature is not going to be presenting too much of a contribution to my model."
   ]
  },
  {
   "cell_type": "code",
   "execution_count": 5,
   "id": "42863920",
   "metadata": {
    "execution": {
     "iopub.execute_input": "2021-09-08T21:54:46.746733Z",
     "iopub.status.busy": "2021-09-08T21:54:46.746056Z",
     "iopub.status.idle": "2021-09-08T21:54:46.753002Z",
     "shell.execute_reply": "2021-09-08T21:54:46.753515Z",
     "shell.execute_reply.started": "2021-09-08T21:31:21.586052Z"
    },
    "papermill": {
     "duration": 0.052132,
     "end_time": "2021-09-08T21:54:46.753703",
     "exception": false,
     "start_time": "2021-09-08T21:54:46.701571",
     "status": "completed"
    },
    "tags": []
   },
   "outputs": [],
   "source": [
    "df = df.drop('ex_showroom_price', axis = 1)"
   ]
  },
  {
   "cell_type": "code",
   "execution_count": 6,
   "id": "137dbf8a",
   "metadata": {
    "execution": {
     "iopub.execute_input": "2021-09-08T21:54:46.839835Z",
     "iopub.status.busy": "2021-09-08T21:54:46.839195Z",
     "iopub.status.idle": "2021-09-08T21:54:46.848277Z",
     "shell.execute_reply": "2021-09-08T21:54:46.847514Z",
     "shell.execute_reply.started": "2021-09-08T21:31:29.696929Z"
    },
    "papermill": {
     "duration": 0.053428,
     "end_time": "2021-09-08T21:54:46.848432",
     "exception": false,
     "start_time": "2021-09-08T21:54:46.795004",
     "status": "completed"
    },
    "tags": []
   },
   "outputs": [
    {
     "data": {
      "text/plain": [
       "name             0\n",
       "selling_price    0\n",
       "year             0\n",
       "seller_type      0\n",
       "owner            0\n",
       "km_driven        0\n",
       "dtype: int64"
      ]
     },
     "execution_count": 6,
     "metadata": {},
     "output_type": "execute_result"
    }
   ],
   "source": [
    "df.isnull().sum()"
   ]
  },
  {
   "cell_type": "markdown",
   "id": "fa13f905",
   "metadata": {
    "papermill": {
     "duration": 0.043752,
     "end_time": "2021-09-08T21:54:46.935055",
     "exception": false,
     "start_time": "2021-09-08T21:54:46.891303",
     "status": "completed"
    },
    "tags": []
   },
   "source": [
    "# Dealing with outliers"
   ]
  },
  {
   "cell_type": "code",
   "execution_count": 7,
   "id": "7e0488a0",
   "metadata": {
    "execution": {
     "iopub.execute_input": "2021-09-08T21:54:47.046213Z",
     "iopub.status.busy": "2021-09-08T21:54:47.045447Z",
     "iopub.status.idle": "2021-09-08T21:54:47.658296Z",
     "shell.execute_reply": "2021-09-08T21:54:47.657567Z",
     "shell.execute_reply.started": "2021-09-08T21:31:56.648932Z"
    },
    "papermill": {
     "duration": 0.680291,
     "end_time": "2021-09-08T21:54:47.658466",
     "exception": false,
     "start_time": "2021-09-08T21:54:46.978175",
     "status": "completed"
    },
    "tags": []
   },
   "outputs": [
    {
     "data": {
      "text/plain": [
       "<AxesSubplot:xlabel='selling_price', ylabel='Count'>"
      ]
     },
     "execution_count": 7,
     "metadata": {},
     "output_type": "execute_result"
    },
    {
     "data": {
      "image/png": "[encoded data removed]",
      "text/plain": [
       "<Figure size 432x288 with 1 Axes>"
      ]
     },
     "metadata": {
      "needs_background": "light"
     },
     "output_type": "display_data"
    }
   ],
   "source": [
    "sns.histplot(df['selling_price'], kde = True)"
   ]
  },
  {
   "cell_type": "markdown",
   "id": "1745bc09",
   "metadata": {
    "papermill": {
     "duration": 0.043645,
     "end_time": "2021-09-08T21:54:47.745602",
     "exception": false,
     "start_time": "2021-09-08T21:54:47.701957",
     "status": "completed"
    },
    "tags": []
   },
   "source": [
    "It seems that we do have some outliers which have the potential to cause variance to be larger than what we need.\n",
    "\n",
    "So, let's remove the outliers in the selling_price column."
   ]
  },
  {
   "cell_type": "code",
   "execution_count": 8,
   "id": "6260c6bc",
   "metadata": {
    "execution": {
     "iopub.execute_input": "2021-09-08T21:54:47.839473Z",
     "iopub.status.busy": "2021-09-08T21:54:47.838818Z",
     "iopub.status.idle": "2021-09-08T21:54:47.873955Z",
     "shell.execute_reply": "2021-09-08T21:54:47.874449Z",
     "shell.execute_reply.started": "2021-09-08T21:33:09.603573Z"
    },
    "papermill": {
     "duration": 0.085386,
     "end_time": "2021-09-08T21:54:47.874663",
     "exception": false,
     "start_time": "2021-09-08T21:54:47.789277",
     "status": "completed"
    },
    "tags": []
   },
   "outputs": [
    {
     "data": {
      "text/html": [
       "<div>\n",
       "<style scoped>\n",
       "    .dataframe tbody tr th:only-of-type {\n",
       "        vertical-align: middle;\n",
       "    }\n",
       "\n",
       "    .dataframe tbody tr th {\n",
       "        vertical-align: top;\n",
       "    }\n",
       "\n",
       "    .dataframe thead th {\n",
       "        text-align: right;\n",
       "    }\n",
       "</style>\n",
       "<table border=\"1\" class=\"dataframe\">\n",
       "  <thead>\n",
       "    <tr style=\"text-align: right;\">\n",
       "      <th></th>\n",
       "      <th>name</th>\n",
       "      <th>selling_price</th>\n",
       "      <th>year</th>\n",
       "      <th>seller_type</th>\n",
       "      <th>owner</th>\n",
       "      <th>km_driven</th>\n",
       "    </tr>\n",
       "  </thead>\n",
       "  <tbody>\n",
       "    <tr>\n",
       "      <th>count</th>\n",
       "      <td>1030</td>\n",
       "      <td>1030.000000</td>\n",
       "      <td>1030.000000</td>\n",
       "      <td>1030</td>\n",
       "      <td>1030</td>\n",
       "      <td>1030.000000</td>\n",
       "    </tr>\n",
       "    <tr>\n",
       "      <th>unique</th>\n",
       "      <td>265</td>\n",
       "      <td>NaN</td>\n",
       "      <td>NaN</td>\n",
       "      <td>2</td>\n",
       "      <td>4</td>\n",
       "      <td>NaN</td>\n",
       "    </tr>\n",
       "    <tr>\n",
       "      <th>top</th>\n",
       "      <td>Bajaj Pulsar 150</td>\n",
       "      <td>NaN</td>\n",
       "      <td>NaN</td>\n",
       "      <td>Individual</td>\n",
       "      <td>1st owner</td>\n",
       "      <td>NaN</td>\n",
       "    </tr>\n",
       "    <tr>\n",
       "      <th>freq</th>\n",
       "      <td>41</td>\n",
       "      <td>NaN</td>\n",
       "      <td>NaN</td>\n",
       "      <td>1024</td>\n",
       "      <td>900</td>\n",
       "      <td>NaN</td>\n",
       "    </tr>\n",
       "    <tr>\n",
       "      <th>mean</th>\n",
       "      <td>NaN</td>\n",
       "      <td>53346.678641</td>\n",
       "      <td>2013.761165</td>\n",
       "      <td>NaN</td>\n",
       "      <td>NaN</td>\n",
       "      <td>35181.764078</td>\n",
       "    </tr>\n",
       "    <tr>\n",
       "      <th>std</th>\n",
       "      <td>NaN</td>\n",
       "      <td>36037.408053</td>\n",
       "      <td>4.295821</td>\n",
       "      <td>NaN</td>\n",
       "      <td>NaN</td>\n",
       "      <td>52159.074675</td>\n",
       "    </tr>\n",
       "    <tr>\n",
       "      <th>min</th>\n",
       "      <td>NaN</td>\n",
       "      <td>5000.000000</td>\n",
       "      <td>1988.000000</td>\n",
       "      <td>NaN</td>\n",
       "      <td>NaN</td>\n",
       "      <td>350.000000</td>\n",
       "    </tr>\n",
       "    <tr>\n",
       "      <th>25%</th>\n",
       "      <td>NaN</td>\n",
       "      <td>27000.000000</td>\n",
       "      <td>2011.000000</td>\n",
       "      <td>NaN</td>\n",
       "      <td>NaN</td>\n",
       "      <td>14500.000000</td>\n",
       "    </tr>\n",
       "    <tr>\n",
       "      <th>50%</th>\n",
       "      <td>NaN</td>\n",
       "      <td>42000.000000</td>\n",
       "      <td>2015.000000</td>\n",
       "      <td>NaN</td>\n",
       "      <td>NaN</td>\n",
       "      <td>25000.000000</td>\n",
       "    </tr>\n",
       "    <tr>\n",
       "      <th>75%</th>\n",
       "      <td>NaN</td>\n",
       "      <td>68750.000000</td>\n",
       "      <td>2017.000000</td>\n",
       "      <td>NaN</td>\n",
       "      <td>NaN</td>\n",
       "      <td>44000.000000</td>\n",
       "    </tr>\n",
       "    <tr>\n",
       "      <th>max</th>\n",
       "      <td>NaN</td>\n",
       "      <td>175000.000000</td>\n",
       "      <td>2020.000000</td>\n",
       "      <td>NaN</td>\n",
       "      <td>NaN</td>\n",
       "      <td>880000.000000</td>\n",
       "    </tr>\n",
       "  </tbody>\n",
       "</table>\n",
       "</div>"
      ],
      "text/plain": [
       "                    name  selling_price         year seller_type      owner  \\\n",
       "count               1030    1030.000000  1030.000000        1030       1030   \n",
       "unique               265            NaN          NaN           2          4   \n",
       "top     Bajaj Pulsar 150            NaN          NaN  Individual  1st owner   \n",
       "freq                  41            NaN          NaN        1024        900   \n",
       "mean                 NaN   53346.678641  2013.761165         NaN        NaN   \n",
       "std                  NaN   36037.408053     4.295821         NaN        NaN   \n",
       "min                  NaN    5000.000000  1988.000000         NaN        NaN   \n",
       "25%                  NaN   27000.000000  2011.000000         NaN        NaN   \n",
       "50%                  NaN   42000.000000  2015.000000         NaN        NaN   \n",
       "75%                  NaN   68750.000000  2017.000000         NaN        NaN   \n",
       "max                  NaN  175000.000000  2020.000000         NaN        NaN   \n",
       "\n",
       "            km_driven  \n",
       "count     1030.000000  \n",
       "unique            NaN  \n",
       "top               NaN  \n",
       "freq              NaN  \n",
       "mean     35181.764078  \n",
       "std      52159.074675  \n",
       "min        350.000000  \n",
       "25%      14500.000000  \n",
       "50%      25000.000000  \n",
       "75%      44000.000000  \n",
       "max     880000.000000  "
      ]
     },
     "execution_count": 8,
     "metadata": {},
     "output_type": "execute_result"
    }
   ],
   "source": [
    "q = df['selling_price'].quantile(0.975)\n",
    "df_2 = df[df['selling_price'] < q]\n",
    "df_2.describe(include = 'all')"
   ]
  },
  {
   "cell_type": "code",
   "execution_count": 9,
   "id": "fe4a1dc4",
   "metadata": {
    "execution": {
     "iopub.execute_input": "2021-09-08T21:54:47.966213Z",
     "iopub.status.busy": "2021-09-08T21:54:47.965600Z",
     "iopub.status.idle": "2021-09-08T21:54:48.214279Z",
     "shell.execute_reply": "2021-09-08T21:54:48.214796Z",
     "shell.execute_reply.started": "2021-09-08T21:33:24.561508Z"
    },
    "papermill": {
     "duration": 0.295998,
     "end_time": "2021-09-08T21:54:48.214994",
     "exception": false,
     "start_time": "2021-09-08T21:54:47.918996",
     "status": "completed"
    },
    "tags": []
   },
   "outputs": [
    {
     "data": {
      "text/plain": [
       "<AxesSubplot:xlabel='selling_price', ylabel='Count'>"
      ]
     },
     "execution_count": 9,
     "metadata": {},
     "output_type": "execute_result"
    },
    {
     "data": {
      "image/png": "[encoded data removed]",
      "text/plain": [
       "<Figure size 432x288 with 1 Axes>"
      ]
     },
     "metadata": {
      "needs_background": "light"
     },
     "output_type": "display_data"
    }
   ],
   "source": [
    "sns.histplot(df_2['selling_price'], kde = True)"
   ]
  },
  {
   "cell_type": "markdown",
   "id": "162610d6",
   "metadata": {
    "papermill": {
     "duration": 0.045865,
     "end_time": "2021-09-08T21:54:48.306217",
     "exception": false,
     "start_time": "2021-09-08T21:54:48.260352",
     "status": "completed"
    },
    "tags": []
   },
   "source": [
    "So, we do have a better distributed price column now.\n",
    "\n",
    "I am going to be checking the same outliers in other columns, too."
   ]
  },
  {
   "cell_type": "code",
   "execution_count": 10,
   "id": "89c8baa2",
   "metadata": {
    "execution": {
     "iopub.execute_input": "2021-09-08T21:54:48.400433Z",
     "iopub.status.busy": "2021-09-08T21:54:48.399735Z",
     "iopub.status.idle": "2021-09-08T21:54:48.896586Z",
     "shell.execute_reply": "2021-09-08T21:54:48.897097Z",
     "shell.execute_reply.started": "2021-09-08T21:34:16.782342Z"
    },
    "papermill": {
     "duration": 0.545698,
     "end_time": "2021-09-08T21:54:48.897271",
     "exception": false,
     "start_time": "2021-09-08T21:54:48.351573",
     "status": "completed"
    },
    "tags": []
   },
   "outputs": [
    {
     "data": {
      "text/plain": [
       "<AxesSubplot:xlabel='km_driven', ylabel='Count'>"
      ]
     },
     "execution_count": 10,
     "metadata": {},
     "output_type": "execute_result"
    },
    {
     "data": {
      "image/png": "[encoded data removed]",
      "text/plain": [
       "<Figure size 432x288 with 1 Axes>"
      ]
     },
     "metadata": {
      "needs_background": "light"
     },
     "output_type": "display_data"
    }
   ],
   "source": [
    "sns.histplot(df_2['km_driven'],kde = True)"
   ]
  },
  {
   "cell_type": "code",
   "execution_count": 11,
   "id": "0d55e0e9",
   "metadata": {
    "execution": {
     "iopub.execute_input": "2021-09-08T21:54:48.995810Z",
     "iopub.status.busy": "2021-09-08T21:54:48.994811Z",
     "iopub.status.idle": "2021-09-08T21:54:49.328814Z",
     "shell.execute_reply": "2021-09-08T21:54:49.329283Z",
     "shell.execute_reply.started": "2021-09-08T21:34:31.278727Z"
    },
    "papermill": {
     "duration": 0.384372,
     "end_time": "2021-09-08T21:54:49.329462",
     "exception": false,
     "start_time": "2021-09-08T21:54:48.945090",
     "status": "completed"
    },
    "tags": []
   },
   "outputs": [
    {
     "data": {
      "text/plain": [
       "<AxesSubplot:xlabel='km_driven', ylabel='Count'>"
      ]
     },
     "execution_count": 11,
     "metadata": {},
     "output_type": "execute_result"
    },
    {
     "data": {
      "image/png": "[encoded data removed]",
      "text/plain": [
       "<Figure size 432x288 with 1 Axes>"
      ]
     },
     "metadata": {
      "needs_background": "light"
     },
     "output_type": "display_data"
    }
   ],
   "source": [
    "df_3 = df_2[df_2['km_driven'] < 100000]\n",
    "sns.histplot(df_3['km_driven'], kde = True)"
   ]
  },
  {
   "cell_type": "markdown",
   "id": "2ec68bd9",
   "metadata": {
    "papermill": {
     "duration": 0.046367,
     "end_time": "2021-09-08T21:54:49.422817",
     "exception": false,
     "start_time": "2021-09-08T21:54:49.376450",
     "status": "completed"
    },
    "tags": []
   },
   "source": [
    "Now we have a more normally distributed km_driven column."
   ]
  },
  {
   "cell_type": "code",
   "execution_count": 12,
   "id": "3ccf3aa5",
   "metadata": {
    "execution": {
     "iopub.execute_input": "2021-09-08T21:54:49.522611Z",
     "iopub.status.busy": "2021-09-08T21:54:49.521631Z",
     "iopub.status.idle": "2021-09-08T21:54:49.528481Z",
     "shell.execute_reply": "2021-09-08T21:54:49.529091Z",
     "shell.execute_reply.started": "2021-09-08T21:35:03.907762Z"
    },
    "papermill": {
     "duration": 0.058416,
     "end_time": "2021-09-08T21:54:49.529302",
     "exception": false,
     "start_time": "2021-09-08T21:54:49.470886",
     "status": "completed"
    },
    "tags": []
   },
   "outputs": [],
   "source": [
    "r = df_3['year'].quantile(0.01)\n",
    "df_4 = df_3[df_3['year'] > r]"
   ]
  },
  {
   "cell_type": "code",
   "execution_count": 13,
   "id": "afac67a2",
   "metadata": {
    "execution": {
     "iopub.execute_input": "2021-09-08T21:54:49.629838Z",
     "iopub.status.busy": "2021-09-08T21:54:49.628822Z",
     "iopub.status.idle": "2021-09-08T21:54:49.632587Z",
     "shell.execute_reply": "2021-09-08T21:54:49.633115Z",
     "shell.execute_reply.started": "2021-09-08T21:35:22.229401Z"
    },
    "papermill": {
     "duration": 0.054975,
     "end_time": "2021-09-08T21:54:49.633289",
     "exception": false,
     "start_time": "2021-09-08T21:54:49.578314",
     "status": "completed"
    },
    "tags": []
   },
   "outputs": [],
   "source": [
    "df_no_outlier = df_4"
   ]
  },
  {
   "cell_type": "code",
   "execution_count": 14,
   "id": "930e6712",
   "metadata": {
    "execution": {
     "iopub.execute_input": "2021-09-08T21:54:49.732196Z",
     "iopub.status.busy": "2021-09-08T21:54:49.731585Z",
     "iopub.status.idle": "2021-09-08T21:54:49.761233Z",
     "shell.execute_reply": "2021-09-08T21:54:49.760697Z",
     "shell.execute_reply.started": "2021-09-08T21:35:35.158697Z"
    },
    "papermill": {
     "duration": 0.079396,
     "end_time": "2021-09-08T21:54:49.761377",
     "exception": false,
     "start_time": "2021-09-08T21:54:49.681981",
     "status": "completed"
    },
    "tags": []
   },
   "outputs": [
    {
     "data": {
      "text/html": [
       "<div>\n",
       "<style scoped>\n",
       "    .dataframe tbody tr th:only-of-type {\n",
       "        vertical-align: middle;\n",
       "    }\n",
       "\n",
       "    .dataframe tbody tr th {\n",
       "        vertical-align: top;\n",
       "    }\n",
       "\n",
       "    .dataframe thead th {\n",
       "        text-align: right;\n",
       "    }\n",
       "</style>\n",
       "<table border=\"1\" class=\"dataframe\">\n",
       "  <thead>\n",
       "    <tr style=\"text-align: right;\">\n",
       "      <th></th>\n",
       "      <th>name</th>\n",
       "      <th>selling_price</th>\n",
       "      <th>year</th>\n",
       "      <th>seller_type</th>\n",
       "      <th>owner</th>\n",
       "      <th>km_driven</th>\n",
       "    </tr>\n",
       "  </thead>\n",
       "  <tbody>\n",
       "    <tr>\n",
       "      <th>count</th>\n",
       "      <td>986</td>\n",
       "      <td>986.000000</td>\n",
       "      <td>986.000000</td>\n",
       "      <td>986</td>\n",
       "      <td>986</td>\n",
       "      <td>986.000000</td>\n",
       "    </tr>\n",
       "    <tr>\n",
       "      <th>unique</th>\n",
       "      <td>255</td>\n",
       "      <td>NaN</td>\n",
       "      <td>NaN</td>\n",
       "      <td>2</td>\n",
       "      <td>3</td>\n",
       "      <td>NaN</td>\n",
       "    </tr>\n",
       "    <tr>\n",
       "      <th>top</th>\n",
       "      <td>Bajaj Pulsar 150</td>\n",
       "      <td>NaN</td>\n",
       "      <td>NaN</td>\n",
       "      <td>Individual</td>\n",
       "      <td>1st owner</td>\n",
       "      <td>NaN</td>\n",
       "    </tr>\n",
       "    <tr>\n",
       "      <th>freq</th>\n",
       "      <td>40</td>\n",
       "      <td>NaN</td>\n",
       "      <td>NaN</td>\n",
       "      <td>982</td>\n",
       "      <td>869</td>\n",
       "      <td>NaN</td>\n",
       "    </tr>\n",
       "    <tr>\n",
       "      <th>mean</th>\n",
       "      <td>NaN</td>\n",
       "      <td>54242.383367</td>\n",
       "      <td>2014.130832</td>\n",
       "      <td>NaN</td>\n",
       "      <td>NaN</td>\n",
       "      <td>29451.018256</td>\n",
       "    </tr>\n",
       "    <tr>\n",
       "      <th>std</th>\n",
       "      <td>NaN</td>\n",
       "      <td>35887.881558</td>\n",
       "      <td>3.704863</td>\n",
       "      <td>NaN</td>\n",
       "      <td>NaN</td>\n",
       "      <td>20398.384830</td>\n",
       "    </tr>\n",
       "    <tr>\n",
       "      <th>min</th>\n",
       "      <td>NaN</td>\n",
       "      <td>6000.000000</td>\n",
       "      <td>2001.000000</td>\n",
       "      <td>NaN</td>\n",
       "      <td>NaN</td>\n",
       "      <td>350.000000</td>\n",
       "    </tr>\n",
       "    <tr>\n",
       "      <th>25%</th>\n",
       "      <td>NaN</td>\n",
       "      <td>29925.000000</td>\n",
       "      <td>2012.000000</td>\n",
       "      <td>NaN</td>\n",
       "      <td>NaN</td>\n",
       "      <td>14000.000000</td>\n",
       "    </tr>\n",
       "    <tr>\n",
       "      <th>50%</th>\n",
       "      <td>NaN</td>\n",
       "      <td>45000.000000</td>\n",
       "      <td>2015.000000</td>\n",
       "      <td>NaN</td>\n",
       "      <td>NaN</td>\n",
       "      <td>25000.000000</td>\n",
       "    </tr>\n",
       "    <tr>\n",
       "      <th>75%</th>\n",
       "      <td>NaN</td>\n",
       "      <td>70000.000000</td>\n",
       "      <td>2017.000000</td>\n",
       "      <td>NaN</td>\n",
       "      <td>NaN</td>\n",
       "      <td>40000.000000</td>\n",
       "    </tr>\n",
       "    <tr>\n",
       "      <th>max</th>\n",
       "      <td>NaN</td>\n",
       "      <td>175000.000000</td>\n",
       "      <td>2020.000000</td>\n",
       "      <td>NaN</td>\n",
       "      <td>NaN</td>\n",
       "      <td>99000.000000</td>\n",
       "    </tr>\n",
       "  </tbody>\n",
       "</table>\n",
       "</div>"
      ],
      "text/plain": [
       "                    name  selling_price         year seller_type      owner  \\\n",
       "count                986     986.000000   986.000000         986        986   \n",
       "unique               255            NaN          NaN           2          3   \n",
       "top     Bajaj Pulsar 150            NaN          NaN  Individual  1st owner   \n",
       "freq                  40            NaN          NaN         982        869   \n",
       "mean                 NaN   54242.383367  2014.130832         NaN        NaN   \n",
       "std                  NaN   35887.881558     3.704863         NaN        NaN   \n",
       "min                  NaN    6000.000000  2001.000000         NaN        NaN   \n",
       "25%                  NaN   29925.000000  2012.000000         NaN        NaN   \n",
       "50%                  NaN   45000.000000  2015.000000         NaN        NaN   \n",
       "75%                  NaN   70000.000000  2017.000000         NaN        NaN   \n",
       "max                  NaN  175000.000000  2020.000000         NaN        NaN   \n",
       "\n",
       "           km_driven  \n",
       "count     986.000000  \n",
       "unique           NaN  \n",
       "top              NaN  \n",
       "freq             NaN  \n",
       "mean    29451.018256  \n",
       "std     20398.384830  \n",
       "min       350.000000  \n",
       "25%     14000.000000  \n",
       "50%     25000.000000  \n",
       "75%     40000.000000  \n",
       "max     99000.000000  "
      ]
     },
     "execution_count": 14,
     "metadata": {},
     "output_type": "execute_result"
    }
   ],
   "source": [
    "df_no_outlier.describe(include= 'all')"
   ]
  },
  {
   "cell_type": "code",
   "execution_count": 15,
   "id": "fddd2b74",
   "metadata": {
    "execution": {
     "iopub.execute_input": "2021-09-08T21:54:49.864018Z",
     "iopub.status.busy": "2021-09-08T21:54:49.863304Z",
     "iopub.status.idle": "2021-09-08T21:54:52.375508Z",
     "shell.execute_reply": "2021-09-08T21:54:52.374968Z",
     "shell.execute_reply.started": "2021-09-08T21:35:43.071432Z"
    },
    "papermill": {
     "duration": 2.56623,
     "end_time": "2021-09-08T21:54:52.375663",
     "exception": false,
     "start_time": "2021-09-08T21:54:49.809433",
     "status": "completed"
    },
    "tags": []
   },
   "outputs": [
    {
     "data": {
      "text/plain": [
       "<seaborn.axisgrid.PairGrid at 0x7f41696dce90>"
      ]
     },
     "execution_count": 15,
     "metadata": {},
     "output_type": "execute_result"
    },
    {
     "data": {
      "image/png": "[encoded data removed]",
      "text/plain": [
       "<Figure size 540x540 with 12 Axes>"
      ]
     },
     "metadata": {
      "needs_background": "light"
     },
     "output_type": "display_data"
    }
   ],
   "source": [
    "sns.pairplot(df)"
   ]
  },
  {
   "cell_type": "markdown",
   "id": "e3c83237",
   "metadata": {
    "papermill": {
     "duration": 0.050484,
     "end_time": "2021-09-08T21:54:52.475796",
     "exception": false,
     "start_time": "2021-09-08T21:54:52.425312",
     "status": "completed"
    },
    "tags": []
   },
   "source": [
    "# Creating the dummy variables"
   ]
  },
  {
   "cell_type": "code",
   "execution_count": 16,
   "id": "63b08af1",
   "metadata": {
    "execution": {
     "iopub.execute_input": "2021-09-08T21:54:52.581781Z",
     "iopub.status.busy": "2021-09-08T21:54:52.580789Z",
     "iopub.status.idle": "2021-09-08T21:54:52.589500Z",
     "shell.execute_reply": "2021-09-08T21:54:52.588950Z",
     "shell.execute_reply.started": "2021-09-08T21:36:39.992188Z"
    },
    "papermill": {
     "duration": 0.063517,
     "end_time": "2021-09-08T21:54:52.589669",
     "exception": false,
     "start_time": "2021-09-08T21:54:52.526152",
     "status": "completed"
    },
    "tags": []
   },
   "outputs": [],
   "source": [
    "df_object = df_no_outlier.select_dtypes(include = 'object')\n",
    "df_numeric = df_no_outlier.select_dtypes (exclude = 'object')"
   ]
  },
  {
   "cell_type": "code",
   "execution_count": 17,
   "id": "d5e8b145",
   "metadata": {
    "execution": {
     "iopub.execute_input": "2021-09-08T21:54:52.698639Z",
     "iopub.status.busy": "2021-09-08T21:54:52.697592Z",
     "iopub.status.idle": "2021-09-08T21:54:52.705772Z",
     "shell.execute_reply": "2021-09-08T21:54:52.705199Z",
     "shell.execute_reply.started": "2021-09-08T21:36:55.094228Z"
    },
    "papermill": {
     "duration": 0.065326,
     "end_time": "2021-09-08T21:54:52.705912",
     "exception": false,
     "start_time": "2021-09-08T21:54:52.640586",
     "status": "completed"
    },
    "tags": []
   },
   "outputs": [],
   "source": [
    "df_object_dummies = pd.get_dummies(df_object, drop_first=True)"
   ]
  },
  {
   "cell_type": "code",
   "execution_count": 18,
   "id": "ff8d25ec",
   "metadata": {
    "execution": {
     "iopub.execute_input": "2021-09-08T21:54:52.809911Z",
     "iopub.status.busy": "2021-09-08T21:54:52.809167Z",
     "iopub.status.idle": "2021-09-08T21:54:52.832890Z",
     "shell.execute_reply": "2021-09-08T21:54:52.833457Z",
     "shell.execute_reply.started": "2021-09-08T21:37:05.272894Z"
    },
    "papermill": {
     "duration": 0.077442,
     "end_time": "2021-09-08T21:54:52.833647",
     "exception": false,
     "start_time": "2021-09-08T21:54:52.756205",
     "status": "completed"
    },
    "tags": []
   },
   "outputs": [
    {
     "data": {
      "text/html": [
       "<div>\n",
       "<style scoped>\n",
       "    .dataframe tbody tr th:only-of-type {\n",
       "        vertical-align: middle;\n",
       "    }\n",
       "\n",
       "    .dataframe tbody tr th {\n",
       "        vertical-align: top;\n",
       "    }\n",
       "\n",
       "    .dataframe thead th {\n",
       "        text-align: right;\n",
       "    }\n",
       "</style>\n",
       "<table border=\"1\" class=\"dataframe\">\n",
       "  <thead>\n",
       "    <tr style=\"text-align: right;\">\n",
       "      <th></th>\n",
       "      <th>name_Activa 4g</th>\n",
       "      <th>name_Aprilia SR 125</th>\n",
       "      <th>name_Bajaj  ct 100</th>\n",
       "      <th>name_Bajaj Avenger 150</th>\n",
       "      <th>name_Bajaj Avenger 150 street</th>\n",
       "      <th>name_Bajaj Avenger 220</th>\n",
       "      <th>name_Bajaj Avenger 220 dtsi</th>\n",
       "      <th>name_Bajaj Avenger Cruise 220</th>\n",
       "      <th>name_Bajaj Avenger Street 150 [2018]</th>\n",
       "      <th>name_Bajaj Avenger Street 160</th>\n",
       "      <th>...</th>\n",
       "      <th>name_Yamaha Saluto</th>\n",
       "      <th>name_Yamaha Saluto RX</th>\n",
       "      <th>name_Yamaha YBR 125</th>\n",
       "      <th>name_Yamaha YZF R15 S</th>\n",
       "      <th>name_Yamaha YZF R15 V3</th>\n",
       "      <th>name_Yamaha YZF R15 [2011-2018]</th>\n",
       "      <th>name_Yo Style</th>\n",
       "      <th>seller_type_Individual</th>\n",
       "      <th>owner_2nd owner</th>\n",
       "      <th>owner_3rd owner</th>\n",
       "    </tr>\n",
       "  </thead>\n",
       "  <tbody>\n",
       "    <tr>\n",
       "      <th>0</th>\n",
       "      <td>0</td>\n",
       "      <td>0</td>\n",
       "      <td>0</td>\n",
       "      <td>0</td>\n",
       "      <td>0</td>\n",
       "      <td>0</td>\n",
       "      <td>0</td>\n",
       "      <td>0</td>\n",
       "      <td>0</td>\n",
       "      <td>0</td>\n",
       "      <td>...</td>\n",
       "      <td>0</td>\n",
       "      <td>0</td>\n",
       "      <td>0</td>\n",
       "      <td>0</td>\n",
       "      <td>0</td>\n",
       "      <td>0</td>\n",
       "      <td>0</td>\n",
       "      <td>1</td>\n",
       "      <td>0</td>\n",
       "      <td>0</td>\n",
       "    </tr>\n",
       "    <tr>\n",
       "      <th>1</th>\n",
       "      <td>0</td>\n",
       "      <td>0</td>\n",
       "      <td>0</td>\n",
       "      <td>0</td>\n",
       "      <td>0</td>\n",
       "      <td>0</td>\n",
       "      <td>0</td>\n",
       "      <td>0</td>\n",
       "      <td>0</td>\n",
       "      <td>0</td>\n",
       "      <td>...</td>\n",
       "      <td>0</td>\n",
       "      <td>0</td>\n",
       "      <td>0</td>\n",
       "      <td>0</td>\n",
       "      <td>0</td>\n",
       "      <td>0</td>\n",
       "      <td>0</td>\n",
       "      <td>1</td>\n",
       "      <td>0</td>\n",
       "      <td>0</td>\n",
       "    </tr>\n",
       "    <tr>\n",
       "      <th>2</th>\n",
       "      <td>0</td>\n",
       "      <td>0</td>\n",
       "      <td>0</td>\n",
       "      <td>0</td>\n",
       "      <td>0</td>\n",
       "      <td>0</td>\n",
       "      <td>0</td>\n",
       "      <td>0</td>\n",
       "      <td>0</td>\n",
       "      <td>0</td>\n",
       "      <td>...</td>\n",
       "      <td>0</td>\n",
       "      <td>0</td>\n",
       "      <td>0</td>\n",
       "      <td>0</td>\n",
       "      <td>0</td>\n",
       "      <td>0</td>\n",
       "      <td>0</td>\n",
       "      <td>1</td>\n",
       "      <td>0</td>\n",
       "      <td>0</td>\n",
       "    </tr>\n",
       "    <tr>\n",
       "      <th>3</th>\n",
       "      <td>0</td>\n",
       "      <td>0</td>\n",
       "      <td>0</td>\n",
       "      <td>0</td>\n",
       "      <td>0</td>\n",
       "      <td>0</td>\n",
       "      <td>0</td>\n",
       "      <td>0</td>\n",
       "      <td>0</td>\n",
       "      <td>0</td>\n",
       "      <td>...</td>\n",
       "      <td>0</td>\n",
       "      <td>0</td>\n",
       "      <td>0</td>\n",
       "      <td>0</td>\n",
       "      <td>0</td>\n",
       "      <td>0</td>\n",
       "      <td>0</td>\n",
       "      <td>1</td>\n",
       "      <td>0</td>\n",
       "      <td>0</td>\n",
       "    </tr>\n",
       "    <tr>\n",
       "      <th>4</th>\n",
       "      <td>0</td>\n",
       "      <td>0</td>\n",
       "      <td>0</td>\n",
       "      <td>0</td>\n",
       "      <td>0</td>\n",
       "      <td>0</td>\n",
       "      <td>0</td>\n",
       "      <td>0</td>\n",
       "      <td>0</td>\n",
       "      <td>0</td>\n",
       "      <td>...</td>\n",
       "      <td>0</td>\n",
       "      <td>0</td>\n",
       "      <td>0</td>\n",
       "      <td>0</td>\n",
       "      <td>0</td>\n",
       "      <td>0</td>\n",
       "      <td>0</td>\n",
       "      <td>1</td>\n",
       "      <td>1</td>\n",
       "      <td>0</td>\n",
       "    </tr>\n",
       "    <tr>\n",
       "      <th>...</th>\n",
       "      <td>...</td>\n",
       "      <td>...</td>\n",
       "      <td>...</td>\n",
       "      <td>...</td>\n",
       "      <td>...</td>\n",
       "      <td>...</td>\n",
       "      <td>...</td>\n",
       "      <td>...</td>\n",
       "      <td>...</td>\n",
       "      <td>...</td>\n",
       "      <td>...</td>\n",
       "      <td>...</td>\n",
       "      <td>...</td>\n",
       "      <td>...</td>\n",
       "      <td>...</td>\n",
       "      <td>...</td>\n",
       "      <td>...</td>\n",
       "      <td>...</td>\n",
       "      <td>...</td>\n",
       "      <td>...</td>\n",
       "      <td>...</td>\n",
       "    </tr>\n",
       "    <tr>\n",
       "      <th>1055</th>\n",
       "      <td>0</td>\n",
       "      <td>0</td>\n",
       "      <td>1</td>\n",
       "      <td>0</td>\n",
       "      <td>0</td>\n",
       "      <td>0</td>\n",
       "      <td>0</td>\n",
       "      <td>0</td>\n",
       "      <td>0</td>\n",
       "      <td>0</td>\n",
       "      <td>...</td>\n",
       "      <td>0</td>\n",
       "      <td>0</td>\n",
       "      <td>0</td>\n",
       "      <td>0</td>\n",
       "      <td>0</td>\n",
       "      <td>0</td>\n",
       "      <td>0</td>\n",
       "      <td>1</td>\n",
       "      <td>0</td>\n",
       "      <td>0</td>\n",
       "    </tr>\n",
       "    <tr>\n",
       "      <th>1057</th>\n",
       "      <td>0</td>\n",
       "      <td>0</td>\n",
       "      <td>0</td>\n",
       "      <td>0</td>\n",
       "      <td>0</td>\n",
       "      <td>0</td>\n",
       "      <td>0</td>\n",
       "      <td>0</td>\n",
       "      <td>0</td>\n",
       "      <td>0</td>\n",
       "      <td>...</td>\n",
       "      <td>0</td>\n",
       "      <td>0</td>\n",
       "      <td>0</td>\n",
       "      <td>0</td>\n",
       "      <td>0</td>\n",
       "      <td>0</td>\n",
       "      <td>0</td>\n",
       "      <td>1</td>\n",
       "      <td>0</td>\n",
       "      <td>0</td>\n",
       "    </tr>\n",
       "    <tr>\n",
       "      <th>1058</th>\n",
       "      <td>0</td>\n",
       "      <td>0</td>\n",
       "      <td>0</td>\n",
       "      <td>0</td>\n",
       "      <td>0</td>\n",
       "      <td>0</td>\n",
       "      <td>0</td>\n",
       "      <td>0</td>\n",
       "      <td>0</td>\n",
       "      <td>0</td>\n",
       "      <td>...</td>\n",
       "      <td>0</td>\n",
       "      <td>0</td>\n",
       "      <td>0</td>\n",
       "      <td>0</td>\n",
       "      <td>0</td>\n",
       "      <td>0</td>\n",
       "      <td>0</td>\n",
       "      <td>1</td>\n",
       "      <td>1</td>\n",
       "      <td>0</td>\n",
       "    </tr>\n",
       "    <tr>\n",
       "      <th>1059</th>\n",
       "      <td>0</td>\n",
       "      <td>0</td>\n",
       "      <td>0</td>\n",
       "      <td>0</td>\n",
       "      <td>0</td>\n",
       "      <td>0</td>\n",
       "      <td>0</td>\n",
       "      <td>0</td>\n",
       "      <td>0</td>\n",
       "      <td>0</td>\n",
       "      <td>...</td>\n",
       "      <td>0</td>\n",
       "      <td>0</td>\n",
       "      <td>0</td>\n",
       "      <td>0</td>\n",
       "      <td>0</td>\n",
       "      <td>0</td>\n",
       "      <td>0</td>\n",
       "      <td>1</td>\n",
       "      <td>0</td>\n",
       "      <td>0</td>\n",
       "    </tr>\n",
       "    <tr>\n",
       "      <th>1060</th>\n",
       "      <td>0</td>\n",
       "      <td>0</td>\n",
       "      <td>0</td>\n",
       "      <td>0</td>\n",
       "      <td>0</td>\n",
       "      <td>0</td>\n",
       "      <td>0</td>\n",
       "      <td>0</td>\n",
       "      <td>0</td>\n",
       "      <td>0</td>\n",
       "      <td>...</td>\n",
       "      <td>0</td>\n",
       "      <td>0</td>\n",
       "      <td>0</td>\n",
       "      <td>0</td>\n",
       "      <td>0</td>\n",
       "      <td>0</td>\n",
       "      <td>0</td>\n",
       "      <td>1</td>\n",
       "      <td>0</td>\n",
       "      <td>0</td>\n",
       "    </tr>\n",
       "  </tbody>\n",
       "</table>\n",
       "<p>986 rows × 257 columns</p>\n",
       "</div>"
      ],
      "text/plain": [
       "      name_Activa 4g  name_Aprilia SR 125  name_Bajaj  ct 100  \\\n",
       "0                  0                    0                   0   \n",
       "1                  0                    0                   0   \n",
       "2                  0                    0                   0   \n",
       "3                  0                    0                   0   \n",
       "4                  0                    0                   0   \n",
       "...              ...                  ...                 ...   \n",
       "1055               0                    0                   1   \n",
       "1057               0                    0                   0   \n",
       "1058               0                    0                   0   \n",
       "1059               0                    0                   0   \n",
       "1060               0                    0                   0   \n",
       "\n",
       "      name_Bajaj Avenger 150  name_Bajaj Avenger 150 street  \\\n",
       "0                          0                              0   \n",
       "1                          0                              0   \n",
       "2                          0                              0   \n",
       "3                          0                              0   \n",
       "4                          0                              0   \n",
       "...                      ...                            ...   \n",
       "1055                       0                              0   \n",
       "1057                       0                              0   \n",
       "1058                       0                              0   \n",
       "1059                       0                              0   \n",
       "1060                       0                              0   \n",
       "\n",
       "      name_Bajaj Avenger 220  name_Bajaj Avenger 220 dtsi  \\\n",
       "0                          0                            0   \n",
       "1                          0                            0   \n",
       "2                          0                            0   \n",
       "3                          0                            0   \n",
       "4                          0                            0   \n",
       "...                      ...                          ...   \n",
       "1055                       0                            0   \n",
       "1057                       0                            0   \n",
       "1058                       0                            0   \n",
       "1059                       0                            0   \n",
       "1060                       0                            0   \n",
       "\n",
       "      name_Bajaj Avenger Cruise 220  name_Bajaj Avenger Street 150 [2018]  \\\n",
       "0                                 0                                     0   \n",
       "1                                 0                                     0   \n",
       "2                                 0                                     0   \n",
       "3                                 0                                     0   \n",
       "4                                 0                                     0   \n",
       "...                             ...                                   ...   \n",
       "1055                              0                                     0   \n",
       "1057                              0                                     0   \n",
       "1058                              0                                     0   \n",
       "1059                              0                                     0   \n",
       "1060                              0                                     0   \n",
       "\n",
       "      name_Bajaj Avenger Street 160  ...  name_Yamaha Saluto  \\\n",
       "0                                 0  ...                   0   \n",
       "1                                 0  ...                   0   \n",
       "2                                 0  ...                   0   \n",
       "3                                 0  ...                   0   \n",
       "4                                 0  ...                   0   \n",
       "...                             ...  ...                 ...   \n",
       "1055                              0  ...                   0   \n",
       "1057                              0  ...                   0   \n",
       "1058                              0  ...                   0   \n",
       "1059                              0  ...                   0   \n",
       "1060                              0  ...                   0   \n",
       "\n",
       "      name_Yamaha Saluto RX  name_Yamaha YBR 125  name_Yamaha YZF R15 S  \\\n",
       "0                         0                    0                      0   \n",
       "1                         0                    0                      0   \n",
       "2                         0                    0                      0   \n",
       "3                         0                    0                      0   \n",
       "4                         0                    0                      0   \n",
       "...                     ...                  ...                    ...   \n",
       "1055                      0                    0                      0   \n",
       "1057                      0                    0                      0   \n",
       "1058                      0                    0                      0   \n",
       "1059                      0                    0                      0   \n",
       "1060                      0                    0                      0   \n",
       "\n",
       "      name_Yamaha YZF R15 V3  name_Yamaha YZF R15 [2011-2018]  name_Yo Style  \\\n",
       "0                          0                                0              0   \n",
       "1                          0                                0              0   \n",
       "2                          0                                0              0   \n",
       "3                          0                                0              0   \n",
       "4                          0                                0              0   \n",
       "...                      ...                              ...            ...   \n",
       "1055                       0                                0              0   \n",
       "1057                       0                                0              0   \n",
       "1058                       0                                0              0   \n",
       "1059                       0                                0              0   \n",
       "1060                       0                                0              0   \n",
       "\n",
       "      seller_type_Individual  owner_2nd owner  owner_3rd owner  \n",
       "0                          1                0                0  \n",
       "1                          1                0                0  \n",
       "2                          1                0                0  \n",
       "3                          1                0                0  \n",
       "4                          1                1                0  \n",
       "...                      ...              ...              ...  \n",
       "1055                       1                0                0  \n",
       "1057                       1                0                0  \n",
       "1058                       1                1                0  \n",
       "1059                       1                0                0  \n",
       "1060                       1                0                0  \n",
       "\n",
       "[986 rows x 257 columns]"
      ]
     },
     "execution_count": 18,
     "metadata": {},
     "output_type": "execute_result"
    }
   ],
   "source": [
    "df_object_dummies"
   ]
  },
  {
   "cell_type": "code",
   "execution_count": 19,
   "id": "e4342d0d",
   "metadata": {
    "execution": {
     "iopub.execute_input": "2021-09-08T21:54:52.940915Z",
     "iopub.status.busy": "2021-09-08T21:54:52.940054Z",
     "iopub.status.idle": "2021-09-08T21:54:52.945419Z",
     "shell.execute_reply": "2021-09-08T21:54:52.946068Z",
     "shell.execute_reply.started": "2021-09-08T21:37:19.817437Z"
    },
    "papermill": {
     "duration": 0.060109,
     "end_time": "2021-09-08T21:54:52.946247",
     "exception": false,
     "start_time": "2021-09-08T21:54:52.886138",
     "status": "completed"
    },
    "tags": []
   },
   "outputs": [],
   "source": [
    "final_df = pd.concat([df_numeric, df_object_dummies], axis = 1)"
   ]
  },
  {
   "cell_type": "code",
   "execution_count": 20,
   "id": "90f6e909",
   "metadata": {
    "execution": {
     "iopub.execute_input": "2021-09-08T21:54:53.056749Z",
     "iopub.status.busy": "2021-09-08T21:54:53.056022Z",
     "iopub.status.idle": "2021-09-08T21:54:53.608772Z",
     "shell.execute_reply": "2021-09-08T21:54:53.609332Z",
     "shell.execute_reply.started": "2021-09-08T21:37:28.824263Z"
    },
    "papermill": {
     "duration": 0.612353,
     "end_time": "2021-09-08T21:54:53.609600",
     "exception": false,
     "start_time": "2021-09-08T21:54:52.997247",
     "status": "completed"
    },
    "tags": []
   },
   "outputs": [
    {
     "data": {
      "text/html": [
       "<div>\n",
       "<style scoped>\n",
       "    .dataframe tbody tr th:only-of-type {\n",
       "        vertical-align: middle;\n",
       "    }\n",
       "\n",
       "    .dataframe tbody tr th {\n",
       "        vertical-align: top;\n",
       "    }\n",
       "\n",
       "    .dataframe thead th {\n",
       "        text-align: right;\n",
       "    }\n",
       "</style>\n",
       "<table border=\"1\" class=\"dataframe\">\n",
       "  <thead>\n",
       "    <tr style=\"text-align: right;\">\n",
       "      <th></th>\n",
       "      <th>selling_price</th>\n",
       "      <th>year</th>\n",
       "      <th>km_driven</th>\n",
       "      <th>name_Activa 4g</th>\n",
       "      <th>name_Aprilia SR 125</th>\n",
       "      <th>name_Bajaj  ct 100</th>\n",
       "      <th>name_Bajaj Avenger 150</th>\n",
       "      <th>name_Bajaj Avenger 150 street</th>\n",
       "      <th>name_Bajaj Avenger 220</th>\n",
       "      <th>name_Bajaj Avenger 220 dtsi</th>\n",
       "      <th>...</th>\n",
       "      <th>name_Yamaha Saluto</th>\n",
       "      <th>name_Yamaha Saluto RX</th>\n",
       "      <th>name_Yamaha YBR 125</th>\n",
       "      <th>name_Yamaha YZF R15 S</th>\n",
       "      <th>name_Yamaha YZF R15 V3</th>\n",
       "      <th>name_Yamaha YZF R15 [2011-2018]</th>\n",
       "      <th>name_Yo Style</th>\n",
       "      <th>seller_type_Individual</th>\n",
       "      <th>owner_2nd owner</th>\n",
       "      <th>owner_3rd owner</th>\n",
       "    </tr>\n",
       "  </thead>\n",
       "  <tbody>\n",
       "    <tr>\n",
       "      <th>count</th>\n",
       "      <td>986.000000</td>\n",
       "      <td>986.000000</td>\n",
       "      <td>986.000000</td>\n",
       "      <td>986.000000</td>\n",
       "      <td>986.000000</td>\n",
       "      <td>986.000000</td>\n",
       "      <td>986.000000</td>\n",
       "      <td>986.000000</td>\n",
       "      <td>986.000000</td>\n",
       "      <td>986.000000</td>\n",
       "      <td>...</td>\n",
       "      <td>986.000000</td>\n",
       "      <td>986.000000</td>\n",
       "      <td>986.000000</td>\n",
       "      <td>986.000000</td>\n",
       "      <td>986.000000</td>\n",
       "      <td>986.000000</td>\n",
       "      <td>986.000000</td>\n",
       "      <td>986.000000</td>\n",
       "      <td>986.000000</td>\n",
       "      <td>986.000000</td>\n",
       "    </tr>\n",
       "    <tr>\n",
       "      <th>mean</th>\n",
       "      <td>54242.383367</td>\n",
       "      <td>2014.130832</td>\n",
       "      <td>29451.018256</td>\n",
       "      <td>0.001014</td>\n",
       "      <td>0.002028</td>\n",
       "      <td>0.001014</td>\n",
       "      <td>0.001014</td>\n",
       "      <td>0.001014</td>\n",
       "      <td>0.003043</td>\n",
       "      <td>0.002028</td>\n",
       "      <td>...</td>\n",
       "      <td>0.003043</td>\n",
       "      <td>0.001014</td>\n",
       "      <td>0.002028</td>\n",
       "      <td>0.006085</td>\n",
       "      <td>0.002028</td>\n",
       "      <td>0.006085</td>\n",
       "      <td>0.001014</td>\n",
       "      <td>0.995943</td>\n",
       "      <td>0.110548</td>\n",
       "      <td>0.008114</td>\n",
       "    </tr>\n",
       "    <tr>\n",
       "      <th>std</th>\n",
       "      <td>35887.881558</td>\n",
       "      <td>3.704863</td>\n",
       "      <td>20398.384830</td>\n",
       "      <td>0.031846</td>\n",
       "      <td>0.045015</td>\n",
       "      <td>0.031846</td>\n",
       "      <td>0.031846</td>\n",
       "      <td>0.031846</td>\n",
       "      <td>0.055104</td>\n",
       "      <td>0.045015</td>\n",
       "      <td>...</td>\n",
       "      <td>0.055104</td>\n",
       "      <td>0.031846</td>\n",
       "      <td>0.045015</td>\n",
       "      <td>0.077809</td>\n",
       "      <td>0.045015</td>\n",
       "      <td>0.077809</td>\n",
       "      <td>0.031846</td>\n",
       "      <td>0.063596</td>\n",
       "      <td>0.313730</td>\n",
       "      <td>0.089755</td>\n",
       "    </tr>\n",
       "    <tr>\n",
       "      <th>min</th>\n",
       "      <td>6000.000000</td>\n",
       "      <td>2001.000000</td>\n",
       "      <td>350.000000</td>\n",
       "      <td>0.000000</td>\n",
       "      <td>0.000000</td>\n",
       "      <td>0.000000</td>\n",
       "      <td>0.000000</td>\n",
       "      <td>0.000000</td>\n",
       "      <td>0.000000</td>\n",
       "      <td>0.000000</td>\n",
       "      <td>...</td>\n",
       "      <td>0.000000</td>\n",
       "      <td>0.000000</td>\n",
       "      <td>0.000000</td>\n",
       "      <td>0.000000</td>\n",
       "      <td>0.000000</td>\n",
       "      <td>0.000000</td>\n",
       "      <td>0.000000</td>\n",
       "      <td>0.000000</td>\n",
       "      <td>0.000000</td>\n",
       "      <td>0.000000</td>\n",
       "    </tr>\n",
       "    <tr>\n",
       "      <th>25%</th>\n",
       "      <td>29925.000000</td>\n",
       "      <td>2012.000000</td>\n",
       "      <td>14000.000000</td>\n",
       "      <td>0.000000</td>\n",
       "      <td>0.000000</td>\n",
       "      <td>0.000000</td>\n",
       "      <td>0.000000</td>\n",
       "      <td>0.000000</td>\n",
       "      <td>0.000000</td>\n",
       "      <td>0.000000</td>\n",
       "      <td>...</td>\n",
       "      <td>0.000000</td>\n",
       "      <td>0.000000</td>\n",
       "      <td>0.000000</td>\n",
       "      <td>0.000000</td>\n",
       "      <td>0.000000</td>\n",
       "      <td>0.000000</td>\n",
       "      <td>0.000000</td>\n",
       "      <td>1.000000</td>\n",
       "      <td>0.000000</td>\n",
       "      <td>0.000000</td>\n",
       "    </tr>\n",
       "    <tr>\n",
       "      <th>50%</th>\n",
       "      <td>45000.000000</td>\n",
       "      <td>2015.000000</td>\n",
       "      <td>25000.000000</td>\n",
       "      <td>0.000000</td>\n",
       "      <td>0.000000</td>\n",
       "      <td>0.000000</td>\n",
       "      <td>0.000000</td>\n",
       "      <td>0.000000</td>\n",
       "      <td>0.000000</td>\n",
       "      <td>0.000000</td>\n",
       "      <td>...</td>\n",
       "      <td>0.000000</td>\n",
       "      <td>0.000000</td>\n",
       "      <td>0.000000</td>\n",
       "      <td>0.000000</td>\n",
       "      <td>0.000000</td>\n",
       "      <td>0.000000</td>\n",
       "      <td>0.000000</td>\n",
       "      <td>1.000000</td>\n",
       "      <td>0.000000</td>\n",
       "      <td>0.000000</td>\n",
       "    </tr>\n",
       "    <tr>\n",
       "      <th>75%</th>\n",
       "      <td>70000.000000</td>\n",
       "      <td>2017.000000</td>\n",
       "      <td>40000.000000</td>\n",
       "      <td>0.000000</td>\n",
       "      <td>0.000000</td>\n",
       "      <td>0.000000</td>\n",
       "      <td>0.000000</td>\n",
       "      <td>0.000000</td>\n",
       "      <td>0.000000</td>\n",
       "      <td>0.000000</td>\n",
       "      <td>...</td>\n",
       "      <td>0.000000</td>\n",
       "      <td>0.000000</td>\n",
       "      <td>0.000000</td>\n",
       "      <td>0.000000</td>\n",
       "      <td>0.000000</td>\n",
       "      <td>0.000000</td>\n",
       "      <td>0.000000</td>\n",
       "      <td>1.000000</td>\n",
       "      <td>0.000000</td>\n",
       "      <td>0.000000</td>\n",
       "    </tr>\n",
       "    <tr>\n",
       "      <th>max</th>\n",
       "      <td>175000.000000</td>\n",
       "      <td>2020.000000</td>\n",
       "      <td>99000.000000</td>\n",
       "      <td>1.000000</td>\n",
       "      <td>1.000000</td>\n",
       "      <td>1.000000</td>\n",
       "      <td>1.000000</td>\n",
       "      <td>1.000000</td>\n",
       "      <td>1.000000</td>\n",
       "      <td>1.000000</td>\n",
       "      <td>...</td>\n",
       "      <td>1.000000</td>\n",
       "      <td>1.000000</td>\n",
       "      <td>1.000000</td>\n",
       "      <td>1.000000</td>\n",
       "      <td>1.000000</td>\n",
       "      <td>1.000000</td>\n",
       "      <td>1.000000</td>\n",
       "      <td>1.000000</td>\n",
       "      <td>1.000000</td>\n",
       "      <td>1.000000</td>\n",
       "    </tr>\n",
       "  </tbody>\n",
       "</table>\n",
       "<p>8 rows × 260 columns</p>\n",
       "</div>"
      ],
      "text/plain": [
       "       selling_price         year     km_driven  name_Activa 4g  \\\n",
       "count     986.000000   986.000000    986.000000      986.000000   \n",
       "mean    54242.383367  2014.130832  29451.018256        0.001014   \n",
       "std     35887.881558     3.704863  20398.384830        0.031846   \n",
       "min      6000.000000  2001.000000    350.000000        0.000000   \n",
       "25%     29925.000000  2012.000000  14000.000000        0.000000   \n",
       "50%     45000.000000  2015.000000  25000.000000        0.000000   \n",
       "75%     70000.000000  2017.000000  40000.000000        0.000000   \n",
       "max    175000.000000  2020.000000  99000.000000        1.000000   \n",
       "\n",
       "       name_Aprilia SR 125  name_Bajaj  ct 100  name_Bajaj Avenger 150  \\\n",
       "count           986.000000          986.000000              986.000000   \n",
       "mean              0.002028            0.001014                0.001014   \n",
       "std               0.045015            0.031846                0.031846   \n",
       "min               0.000000            0.000000                0.000000   \n",
       "25%               0.000000            0.000000                0.000000   \n",
       "50%               0.000000            0.000000                0.000000   \n",
       "75%               0.000000            0.000000                0.000000   \n",
       "max               1.000000            1.000000                1.000000   \n",
       "\n",
       "       name_Bajaj Avenger 150 street  name_Bajaj Avenger 220  \\\n",
       "count                     986.000000              986.000000   \n",
       "mean                        0.001014                0.003043   \n",
       "std                         0.031846                0.055104   \n",
       "min                         0.000000                0.000000   \n",
       "25%                         0.000000                0.000000   \n",
       "50%                         0.000000                0.000000   \n",
       "75%                         0.000000                0.000000   \n",
       "max                         1.000000                1.000000   \n",
       "\n",
       "       name_Bajaj Avenger 220 dtsi  ...  name_Yamaha Saluto  \\\n",
       "count                   986.000000  ...          986.000000   \n",
       "mean                      0.002028  ...            0.003043   \n",
       "std                       0.045015  ...            0.055104   \n",
       "min                       0.000000  ...            0.000000   \n",
       "25%                       0.000000  ...            0.000000   \n",
       "50%                       0.000000  ...            0.000000   \n",
       "75%                       0.000000  ...            0.000000   \n",
       "max                       1.000000  ...            1.000000   \n",
       "\n",
       "       name_Yamaha Saluto RX  name_Yamaha YBR 125  name_Yamaha YZF R15 S  \\\n",
       "count             986.000000           986.000000             986.000000   \n",
       "mean                0.001014             0.002028               0.006085   \n",
       "std                 0.031846             0.045015               0.077809   \n",
       "min                 0.000000             0.000000               0.000000   \n",
       "25%                 0.000000             0.000000               0.000000   \n",
       "50%                 0.000000             0.000000               0.000000   \n",
       "75%                 0.000000             0.000000               0.000000   \n",
       "max                 1.000000             1.000000               1.000000   \n",
       "\n",
       "       name_Yamaha YZF R15 V3  name_Yamaha YZF R15 [2011-2018]  name_Yo Style  \\\n",
       "count              986.000000                       986.000000     986.000000   \n",
       "mean                 0.002028                         0.006085       0.001014   \n",
       "std                  0.045015                         0.077809       0.031846   \n",
       "min                  0.000000                         0.000000       0.000000   \n",
       "25%                  0.000000                         0.000000       0.000000   \n",
       "50%                  0.000000                         0.000000       0.000000   \n",
       "75%                  0.000000                         0.000000       0.000000   \n",
       "max                  1.000000                         1.000000       1.000000   \n",
       "\n",
       "       seller_type_Individual  owner_2nd owner  owner_3rd owner  \n",
       "count              986.000000       986.000000       986.000000  \n",
       "mean                 0.995943         0.110548         0.008114  \n",
       "std                  0.063596         0.313730         0.089755  \n",
       "min                  0.000000         0.000000         0.000000  \n",
       "25%                  1.000000         0.000000         0.000000  \n",
       "50%                  1.000000         0.000000         0.000000  \n",
       "75%                  1.000000         0.000000         0.000000  \n",
       "max                  1.000000         1.000000         1.000000  \n",
       "\n",
       "[8 rows x 260 columns]"
      ]
     },
     "execution_count": 20,
     "metadata": {},
     "output_type": "execute_result"
    }
   ],
   "source": [
    "final_df.describe(include = 'all')"
   ]
  },
  {
   "cell_type": "code",
   "execution_count": 21,
   "id": "9ae36e85",
   "metadata": {
    "execution": {
     "iopub.execute_input": "2021-09-08T21:54:53.718261Z",
     "iopub.status.busy": "2021-09-08T21:54:53.717621Z",
     "iopub.status.idle": "2021-09-08T21:54:53.908210Z",
     "shell.execute_reply": "2021-09-08T21:54:53.908779Z",
     "shell.execute_reply.started": "2021-09-08T21:37:39.965797Z"
    },
    "papermill": {
     "duration": 0.246112,
     "end_time": "2021-09-08T21:54:53.908968",
     "exception": false,
     "start_time": "2021-09-08T21:54:53.662856",
     "status": "completed"
    },
    "tags": []
   },
   "outputs": [
    {
     "data": {
      "text/plain": [
       "km_driven                             -0.456714\n",
       "name_Hero Honda Splendor Plus         -0.120823\n",
       "name_Honda Activa [2000-2015]         -0.116000\n",
       "owner_2nd owner                       -0.112209\n",
       "name_Bajaj Discover 125               -0.096871\n",
       "                                         ...   \n",
       "name_Royal Enfield Thunderbird 350     0.189076\n",
       "name_Royal Enfield Thunderbird 350X    0.235840\n",
       "name_Royal Enfield Classic 350         0.349870\n",
       "year                                   0.556753\n",
       "selling_price                          1.000000\n",
       "Name: selling_price, Length: 260, dtype: float64"
      ]
     },
     "execution_count": 21,
     "metadata": {},
     "output_type": "execute_result"
    }
   ],
   "source": [
    "final_df.corr()['selling_price'].sort_values()"
   ]
  },
  {
   "cell_type": "markdown",
   "id": "52ddfe91",
   "metadata": {
    "papermill": {
     "duration": 0.052566,
     "end_time": "2021-09-08T21:54:54.014577",
     "exception": false,
     "start_time": "2021-09-08T21:54:53.962011",
     "status": "completed"
    },
    "tags": []
   },
   "source": [
    "From the correlation tables above, it is apparent that the most positively correlated feature is 'year' and the most negatively correlated feature is the 'km_driven'. This could be expected at the begining of the EDA, since it is highly possible that the more a motorcycle is used (meaning higher km), the less price it will have and on the same token, the newer a motorcycle is, the higher its value in terms of selling price."
   ]
  },
  {
   "cell_type": "markdown",
   "id": "22dc16a2",
   "metadata": {
    "papermill": {
     "duration": 0.052537,
     "end_time": "2021-09-08T21:54:54.119581",
     "exception": false,
     "start_time": "2021-09-08T21:54:54.067044",
     "status": "completed"
    },
    "tags": []
   },
   "source": [
    "# Splitting the Dataset"
   ]
  },
  {
   "cell_type": "code",
   "execution_count": 22,
   "id": "ecfbbe56",
   "metadata": {
    "execution": {
     "iopub.execute_input": "2021-09-08T21:54:54.229991Z",
     "iopub.status.busy": "2021-09-08T21:54:54.229091Z",
     "iopub.status.idle": "2021-09-08T21:54:54.232103Z",
     "shell.execute_reply": "2021-09-08T21:54:54.231593Z",
     "shell.execute_reply.started": "2021-09-08T21:40:57.202983Z"
    },
    "papermill": {
     "duration": 0.059827,
     "end_time": "2021-09-08T21:54:54.232246",
     "exception": false,
     "start_time": "2021-09-08T21:54:54.172419",
     "status": "completed"
    },
    "tags": []
   },
   "outputs": [],
   "source": [
    "df = final_df"
   ]
  },
  {
   "cell_type": "code",
   "execution_count": 23,
   "id": "34635531",
   "metadata": {
    "execution": {
     "iopub.execute_input": "2021-09-08T21:54:54.351254Z",
     "iopub.status.busy": "2021-09-08T21:54:54.350468Z",
     "iopub.status.idle": "2021-09-08T21:54:54.355485Z",
     "shell.execute_reply": "2021-09-08T21:54:54.354367Z",
     "shell.execute_reply.started": "2021-09-08T21:41:04.002689Z"
    },
    "papermill": {
     "duration": 0.070987,
     "end_time": "2021-09-08T21:54:54.355759",
     "exception": false,
     "start_time": "2021-09-08T21:54:54.284772",
     "status": "completed"
    },
    "tags": []
   },
   "outputs": [
    {
     "name": "stdout",
     "output_type": "stream",
     "text": [
      "<class 'pandas.core.frame.DataFrame'>\n",
      "Int64Index: 986 entries, 0 to 1060\n",
      "Columns: 260 entries, selling_price to owner_3rd owner\n",
      "dtypes: int64(3), uint8(257)\n",
      "memory usage: 278.3 KB\n"
     ]
    }
   ],
   "source": [
    "df.info()"
   ]
  },
  {
   "cell_type": "code",
   "execution_count": 24,
   "id": "e88b1442",
   "metadata": {
    "execution": {
     "iopub.execute_input": "2021-09-08T21:54:54.467729Z",
     "iopub.status.busy": "2021-09-08T21:54:54.466917Z",
     "iopub.status.idle": "2021-09-08T21:54:54.470946Z",
     "shell.execute_reply": "2021-09-08T21:54:54.470286Z",
     "shell.execute_reply.started": "2021-09-08T21:41:27.128064Z"
    },
    "papermill": {
     "duration": 0.061905,
     "end_time": "2021-09-08T21:54:54.471095",
     "exception": false,
     "start_time": "2021-09-08T21:54:54.409190",
     "status": "completed"
    },
    "tags": []
   },
   "outputs": [],
   "source": [
    "X = df.drop('selling_price', axis = 1)"
   ]
  },
  {
   "cell_type": "code",
   "execution_count": 25,
   "id": "98e66f1c",
   "metadata": {
    "execution": {
     "iopub.execute_input": "2021-09-08T21:54:54.582879Z",
     "iopub.status.busy": "2021-09-08T21:54:54.581804Z",
     "iopub.status.idle": "2021-09-08T21:54:54.584646Z",
     "shell.execute_reply": "2021-09-08T21:54:54.584006Z",
     "shell.execute_reply.started": "2021-09-08T21:41:41.601753Z"
    },
    "papermill": {
     "duration": 0.060794,
     "end_time": "2021-09-08T21:54:54.584793",
     "exception": false,
     "start_time": "2021-09-08T21:54:54.523999",
     "status": "completed"
    },
    "tags": []
   },
   "outputs": [],
   "source": [
    "y = df['selling_price']"
   ]
  },
  {
   "cell_type": "code",
   "execution_count": 26,
   "id": "0196da6b",
   "metadata": {
    "execution": {
     "iopub.execute_input": "2021-09-08T21:54:54.694413Z",
     "iopub.status.busy": "2021-09-08T21:54:54.693695Z",
     "iopub.status.idle": "2021-09-08T21:54:54.890692Z",
     "shell.execute_reply": "2021-09-08T21:54:54.890044Z",
     "shell.execute_reply.started": "2021-09-08T21:41:48.710319Z"
    },
    "papermill": {
     "duration": 0.252996,
     "end_time": "2021-09-08T21:54:54.890844",
     "exception": false,
     "start_time": "2021-09-08T21:54:54.637848",
     "status": "completed"
    },
    "tags": []
   },
   "outputs": [],
   "source": [
    "from sklearn.model_selection import train_test_split"
   ]
  },
  {
   "cell_type": "code",
   "execution_count": 27,
   "id": "1ddbde59",
   "metadata": {
    "execution": {
     "iopub.execute_input": "2021-09-08T21:54:55.005002Z",
     "iopub.status.busy": "2021-09-08T21:54:55.004046Z",
     "iopub.status.idle": "2021-09-08T21:54:55.011080Z",
     "shell.execute_reply": "2021-09-08T21:54:55.010434Z",
     "shell.execute_reply.started": "2021-09-08T21:42:07.274754Z"
    },
    "papermill": {
     "duration": 0.065994,
     "end_time": "2021-09-08T21:54:55.011222",
     "exception": false,
     "start_time": "2021-09-08T21:54:54.945228",
     "status": "completed"
    },
    "tags": []
   },
   "outputs": [],
   "source": [
    "X_train, X_test, y_train, y_test = train_test_split(X, y, test_size=0.2, random_state=42)"
   ]
  },
  {
   "cell_type": "markdown",
   "id": "7fb5c2d1",
   "metadata": {
    "papermill": {
     "duration": 0.052989,
     "end_time": "2021-09-08T21:54:55.117699",
     "exception": false,
     "start_time": "2021-09-08T21:54:55.064710",
     "status": "completed"
    },
    "tags": []
   },
   "source": [
    "# Scaling"
   ]
  },
  {
   "cell_type": "code",
   "execution_count": 28,
   "id": "ad50ef06",
   "metadata": {
    "execution": {
     "iopub.execute_input": "2021-09-08T21:54:55.228408Z",
     "iopub.status.busy": "2021-09-08T21:54:55.227769Z",
     "iopub.status.idle": "2021-09-08T21:54:55.230735Z",
     "shell.execute_reply": "2021-09-08T21:54:55.230085Z",
     "shell.execute_reply.started": "2021-09-08T21:42:27.118373Z"
    },
    "papermill": {
     "duration": 0.05975,
     "end_time": "2021-09-08T21:54:55.230876",
     "exception": false,
     "start_time": "2021-09-08T21:54:55.171126",
     "status": "completed"
    },
    "tags": []
   },
   "outputs": [],
   "source": [
    "from sklearn.preprocessing import StandardScaler"
   ]
  },
  {
   "cell_type": "code",
   "execution_count": 29,
   "id": "5fddf07d",
   "metadata": {
    "execution": {
     "iopub.execute_input": "2021-09-08T21:54:55.343169Z",
     "iopub.status.busy": "2021-09-08T21:54:55.342234Z",
     "iopub.status.idle": "2021-09-08T21:54:55.345649Z",
     "shell.execute_reply": "2021-09-08T21:54:55.345068Z",
     "shell.execute_reply.started": "2021-09-08T21:43:02.436554Z"
    },
    "papermill": {
     "duration": 0.061987,
     "end_time": "2021-09-08T21:54:55.345791",
     "exception": false,
     "start_time": "2021-09-08T21:54:55.283804",
     "status": "completed"
    },
    "tags": []
   },
   "outputs": [],
   "source": [
    "scaler = StandardScaler()"
   ]
  },
  {
   "cell_type": "code",
   "execution_count": 30,
   "id": "34d7a041",
   "metadata": {
    "execution": {
     "iopub.execute_input": "2021-09-08T21:54:55.460464Z",
     "iopub.status.busy": "2021-09-08T21:54:55.459793Z",
     "iopub.status.idle": "2021-09-08T21:54:55.478710Z",
     "shell.execute_reply": "2021-09-08T21:54:55.478094Z",
     "shell.execute_reply.started": "2021-09-08T21:43:19.624572Z"
    },
    "papermill": {
     "duration": 0.080371,
     "end_time": "2021-09-08T21:54:55.478858",
     "exception": false,
     "start_time": "2021-09-08T21:54:55.398487",
     "status": "completed"
    },
    "tags": []
   },
   "outputs": [],
   "source": [
    "scaled_X_train = scaler.fit_transform(X_train)\n",
    "scaled_X_test = scaler.transform(X_test)"
   ]
  },
  {
   "cell_type": "markdown",
   "id": "d1643fc0",
   "metadata": {
    "papermill": {
     "duration": 0.053961,
     "end_time": "2021-09-08T21:54:55.586230",
     "exception": false,
     "start_time": "2021-09-08T21:54:55.532269",
     "status": "completed"
    },
    "tags": []
   },
   "source": [
    "In order to avoid any data leakage, we are not scaling the whole X features, but we are scaling the train and test features separately."
   ]
  },
  {
   "cell_type": "markdown",
   "id": "a7633b89",
   "metadata": {
    "papermill": {
     "duration": 0.053349,
     "end_time": "2021-09-08T21:54:55.692928",
     "exception": false,
     "start_time": "2021-09-08T21:54:55.639579",
     "status": "completed"
    },
    "tags": []
   },
   "source": [
    "# Elastic Net Model"
   ]
  },
  {
   "cell_type": "code",
   "execution_count": 31,
   "id": "d71f6ea8",
   "metadata": {
    "execution": {
     "iopub.execute_input": "2021-09-08T21:54:55.802311Z",
     "iopub.status.busy": "2021-09-08T21:54:55.801708Z",
     "iopub.status.idle": "2021-09-08T21:54:56.022639Z",
     "shell.execute_reply": "2021-09-08T21:54:56.023167Z",
     "shell.execute_reply.started": "2021-09-08T21:44:38.490857Z"
    },
    "papermill": {
     "duration": 0.277686,
     "end_time": "2021-09-08T21:54:56.023341",
     "exception": false,
     "start_time": "2021-09-08T21:54:55.745655",
     "status": "completed"
    },
    "tags": []
   },
   "outputs": [],
   "source": [
    "from sklearn.linear_model import ElasticNet"
   ]
  },
  {
   "cell_type": "code",
   "execution_count": 32,
   "id": "a6d38f5e",
   "metadata": {
    "execution": {
     "iopub.execute_input": "2021-09-08T21:54:56.132827Z",
     "iopub.status.busy": "2021-09-08T21:54:56.132157Z",
     "iopub.status.idle": "2021-09-08T21:54:56.135629Z",
     "shell.execute_reply": "2021-09-08T21:54:56.136160Z",
     "shell.execute_reply.started": "2021-09-08T21:44:40.409592Z"
    },
    "papermill": {
     "duration": 0.059577,
     "end_time": "2021-09-08T21:54:56.136326",
     "exception": false,
     "start_time": "2021-09-08T21:54:56.076749",
     "status": "completed"
    },
    "tags": []
   },
   "outputs": [],
   "source": [
    "base_elastic_model = ElasticNet()"
   ]
  },
  {
   "cell_type": "code",
   "execution_count": 33,
   "id": "39c67c61",
   "metadata": {
    "execution": {
     "iopub.execute_input": "2021-09-08T21:54:56.246052Z",
     "iopub.status.busy": "2021-09-08T21:54:56.245404Z",
     "iopub.status.idle": "2021-09-08T21:54:56.249471Z",
     "shell.execute_reply": "2021-09-08T21:54:56.250019Z",
     "shell.execute_reply.started": "2021-09-08T21:44:48.363639Z"
    },
    "papermill": {
     "duration": 0.060093,
     "end_time": "2021-09-08T21:54:56.250191",
     "exception": false,
     "start_time": "2021-09-08T21:54:56.190098",
     "status": "completed"
    },
    "tags": []
   },
   "outputs": [],
   "source": [
    "param_grid = {'alpha':[0.1,1,5,10,100], 'l1_ratio': [.1,.7,.99,1]}"
   ]
  },
  {
   "cell_type": "markdown",
   "id": "ad5e58a5",
   "metadata": {
    "papermill": {
     "duration": 0.074404,
     "end_time": "2021-09-08T21:54:56.381411",
     "exception": false,
     "start_time": "2021-09-08T21:54:56.307007",
     "status": "completed"
    },
    "tags": []
   },
   "source": [
    "# Grid Search"
   ]
  },
  {
   "cell_type": "code",
   "execution_count": 34,
   "id": "713de166",
   "metadata": {
    "execution": {
     "iopub.execute_input": "2021-09-08T21:54:56.492976Z",
     "iopub.status.busy": "2021-09-08T21:54:56.492300Z",
     "iopub.status.idle": "2021-09-08T21:54:56.497442Z",
     "shell.execute_reply": "2021-09-08T21:54:56.496924Z",
     "shell.execute_reply.started": "2021-09-08T21:45:10.101264Z"
    },
    "papermill": {
     "duration": 0.060386,
     "end_time": "2021-09-08T21:54:56.497600",
     "exception": false,
     "start_time": "2021-09-08T21:54:56.437214",
     "status": "completed"
    },
    "tags": []
   },
   "outputs": [],
   "source": [
    "from sklearn.model_selection import GridSearchCV"
   ]
  },
  {
   "cell_type": "code",
   "execution_count": 35,
   "id": "c8d15b49",
   "metadata": {
    "execution": {
     "iopub.execute_input": "2021-09-08T21:54:56.609570Z",
     "iopub.status.busy": "2021-09-08T21:54:56.608890Z",
     "iopub.status.idle": "2021-09-08T21:54:56.610804Z",
     "shell.execute_reply": "2021-09-08T21:54:56.611243Z",
     "shell.execute_reply.started": "2021-09-08T21:45:16.979357Z"
    },
    "papermill": {
     "duration": 0.061122,
     "end_time": "2021-09-08T21:54:56.611427",
     "exception": false,
     "start_time": "2021-09-08T21:54:56.550305",
     "status": "completed"
    },
    "tags": []
   },
   "outputs": [],
   "source": [
    "grid_model = GridSearchCV(base_elastic_model,\n",
    "                          param_grid = param_grid,\n",
    "                          scoring = 'neg_mean_squared_error',\n",
    "                          cv = 5, verbose = 1)"
   ]
  },
  {
   "cell_type": "code",
   "execution_count": 36,
   "id": "01543be5",
   "metadata": {
    "execution": {
     "iopub.execute_input": "2021-09-08T21:54:56.720328Z",
     "iopub.status.busy": "2021-09-08T21:54:56.719719Z",
     "iopub.status.idle": "2021-09-08T21:55:01.911055Z",
     "shell.execute_reply": "2021-09-08T21:55:01.912474Z",
     "shell.execute_reply.started": "2021-09-08T21:45:28.167885Z"
    },
    "papermill": {
     "duration": 5.248153,
     "end_time": "2021-09-08T21:55:01.912769",
     "exception": false,
     "start_time": "2021-09-08T21:54:56.664616",
     "status": "completed"
    },
    "tags": []
   },
   "outputs": [
    {
     "name": "stdout",
     "output_type": "stream",
     "text": [
      "Fitting 5 folds for each of 20 candidates, totalling 100 fits\n"
     ]
    },
    {
     "name": "stderr",
     "output_type": "stream",
     "text": [
      "[Parallel(n_jobs=1)]: Using backend SequentialBackend with 1 concurrent workers.\n",
      "/opt/conda/lib/python3.7/site-packages/sklearn/linear_model/_coordinate_descent.py:531: ConvergenceWarning: Objective did not converge. You might want to increase the number of iterations. Duality gap: 5668425413.272163, tolerance: 77645810.31430937\n",
      "  positive)\n",
      "/opt/conda/lib/python3.7/site-packages/sklearn/linear_model/_coordinate_descent.py:531: ConvergenceWarning: Objective did not converge. You might want to increase the number of iterations. Duality gap: 6158665052.4499855, tolerance: 80768493.70223556\n",
      "  positive)\n",
      "/opt/conda/lib/python3.7/site-packages/sklearn/linear_model/_coordinate_descent.py:531: ConvergenceWarning: Objective did not converge. You might want to increase the number of iterations. Duality gap: 9071086023.024609, tolerance: 84376643.82043429\n",
      "  positive)\n",
      "/opt/conda/lib/python3.7/site-packages/sklearn/linear_model/_coordinate_descent.py:531: ConvergenceWarning: Objective did not converge. You might want to increase the number of iterations. Duality gap: 5402814376.809113, tolerance: 84808288.16060698\n",
      "  positive)\n",
      "/opt/conda/lib/python3.7/site-packages/sklearn/linear_model/_coordinate_descent.py:531: ConvergenceWarning: Objective did not converge. You might want to increase the number of iterations. Duality gap: 5937271926.856026, tolerance: 83215953.43314867\n",
      "  positive)\n",
      "/opt/conda/lib/python3.7/site-packages/sklearn/linear_model/_coordinate_descent.py:531: ConvergenceWarning: Objective did not converge. You might want to increase the number of iterations. Duality gap: 16585998667.521076, tolerance: 77645810.31430937\n",
      "  positive)\n",
      "/opt/conda/lib/python3.7/site-packages/sklearn/linear_model/_coordinate_descent.py:531: ConvergenceWarning: Objective did not converge. You might want to increase the number of iterations. Duality gap: 17610784656.782997, tolerance: 80768493.70223556\n",
      "  positive)\n",
      "/opt/conda/lib/python3.7/site-packages/sklearn/linear_model/_coordinate_descent.py:531: ConvergenceWarning: Objective did not converge. You might want to increase the number of iterations. Duality gap: 6862727385.83316, tolerance: 84376643.82043429\n",
      "  positive)\n",
      "/opt/conda/lib/python3.7/site-packages/sklearn/linear_model/_coordinate_descent.py:531: ConvergenceWarning: Objective did not converge. You might want to increase the number of iterations. Duality gap: 15080146388.014675, tolerance: 84808288.16060698\n",
      "  positive)\n",
      "/opt/conda/lib/python3.7/site-packages/sklearn/linear_model/_coordinate_descent.py:531: ConvergenceWarning: Objective did not converge. You might want to increase the number of iterations. Duality gap: 18750055024.866547, tolerance: 83215953.43314867\n",
      "  positive)\n",
      "/opt/conda/lib/python3.7/site-packages/sklearn/linear_model/_coordinate_descent.py:531: ConvergenceWarning: Objective did not converge. You might want to increase the number of iterations. Duality gap: 865336196.2186279, tolerance: 77645810.31430937\n",
      "  positive)\n",
      "/opt/conda/lib/python3.7/site-packages/sklearn/linear_model/_coordinate_descent.py:531: ConvergenceWarning: Objective did not converge. You might want to increase the number of iterations. Duality gap: 748308755.6447754, tolerance: 80768493.70223556\n",
      "  positive)\n",
      "/opt/conda/lib/python3.7/site-packages/sklearn/linear_model/_coordinate_descent.py:531: ConvergenceWarning: Objective did not converge. You might want to increase the number of iterations. Duality gap: 4757894622.087936, tolerance: 84376643.82043429\n",
      "  positive)\n",
      "/opt/conda/lib/python3.7/site-packages/sklearn/linear_model/_coordinate_descent.py:531: ConvergenceWarning: Objective did not converge. You might want to increase the number of iterations. Duality gap: 716071998.514988, tolerance: 84808288.16060698\n",
      "  positive)\n",
      "/opt/conda/lib/python3.7/site-packages/sklearn/linear_model/_coordinate_descent.py:531: ConvergenceWarning: Objective did not converge. You might want to increase the number of iterations. Duality gap: 876152977.6468506, tolerance: 83215953.43314867\n",
      "  positive)\n",
      "[Parallel(n_jobs=1)]: Done 100 out of 100 | elapsed:    5.2s finished\n"
     ]
    },
    {
     "data": {
      "text/plain": [
       "GridSearchCV(cv=5, estimator=ElasticNet(),\n",
       "             param_grid={'alpha': [0.1, 1, 5, 10, 100],\n",
       "                         'l1_ratio': [0.1, 0.7, 0.99, 1]},\n",
       "             scoring='neg_mean_squared_error', verbose=1)"
      ]
     },
     "execution_count": 36,
     "metadata": {},
     "output_type": "execute_result"
    }
   ],
   "source": [
    "grid_model.fit(scaled_X_train, y_train)"
   ]
  },
  {
   "cell_type": "code",
   "execution_count": 37,
   "id": "1b082e31",
   "metadata": {
    "execution": {
     "iopub.execute_input": "2021-09-08T21:55:02.071004Z",
     "iopub.status.busy": "2021-09-08T21:55:02.070144Z",
     "iopub.status.idle": "2021-09-08T21:55:02.073404Z",
     "shell.execute_reply": "2021-09-08T21:55:02.074026Z",
     "shell.execute_reply.started": "2021-09-08T21:45:47.526188Z"
    },
    "papermill": {
     "duration": 0.068292,
     "end_time": "2021-09-08T21:55:02.074194",
     "exception": false,
     "start_time": "2021-09-08T21:55:02.005902",
     "status": "completed"
    },
    "tags": []
   },
   "outputs": [
    {
     "data": {
      "text/plain": [
       "{'alpha': 5, 'l1_ratio': 0.99}"
      ]
     },
     "execution_count": 37,
     "metadata": {},
     "output_type": "execute_result"
    }
   ],
   "source": [
    "grid_model.best_params_"
   ]
  },
  {
   "cell_type": "markdown",
   "id": "c4812b0b",
   "metadata": {
    "papermill": {
     "duration": 0.056702,
     "end_time": "2021-09-08T21:55:02.189262",
     "exception": false,
     "start_time": "2021-09-08T21:55:02.132560",
     "status": "completed"
    },
    "tags": []
   },
   "source": [
    "# Model Evaluation"
   ]
  },
  {
   "cell_type": "markdown",
   "id": "8c9b9067",
   "metadata": {
    "papermill": {
     "duration": 0.056942,
     "end_time": "2021-09-08T21:55:02.303509",
     "exception": false,
     "start_time": "2021-09-08T21:55:02.246567",
     "status": "completed"
    },
    "tags": []
   },
   "source": [
    "After we created our model, it is suitable to evaluate it."
   ]
  },
  {
   "cell_type": "code",
   "execution_count": 38,
   "id": "b3d5555a",
   "metadata": {
    "execution": {
     "iopub.execute_input": "2021-09-08T21:55:02.425738Z",
     "iopub.status.busy": "2021-09-08T21:55:02.424320Z",
     "iopub.status.idle": "2021-09-08T21:55:02.426826Z",
     "shell.execute_reply": "2021-09-08T21:55:02.427643Z",
     "shell.execute_reply.started": "2021-09-08T21:47:18.617686Z"
    },
    "papermill": {
     "duration": 0.06708,
     "end_time": "2021-09-08T21:55:02.427922",
     "exception": false,
     "start_time": "2021-09-08T21:55:02.360842",
     "status": "completed"
    },
    "tags": []
   },
   "outputs": [],
   "source": [
    "y_pred = grid_model.predict(scaled_X_test)"
   ]
  },
  {
   "cell_type": "code",
   "execution_count": 39,
   "id": "2543cba4",
   "metadata": {
    "execution": {
     "iopub.execute_input": "2021-09-08T21:55:02.596225Z",
     "iopub.status.busy": "2021-09-08T21:55:02.595514Z",
     "iopub.status.idle": "2021-09-08T21:55:02.597518Z",
     "shell.execute_reply": "2021-09-08T21:55:02.598061Z",
     "shell.execute_reply.started": "2021-09-08T21:47:39.903734Z"
    },
    "papermill": {
     "duration": 0.067747,
     "end_time": "2021-09-08T21:55:02.598226",
     "exception": false,
     "start_time": "2021-09-08T21:55:02.530479",
     "status": "completed"
    },
    "tags": []
   },
   "outputs": [],
   "source": [
    "from sklearn.metrics import mean_absolute_error,mean_squared_error"
   ]
  },
  {
   "cell_type": "code",
   "execution_count": 40,
   "id": "f5128adc",
   "metadata": {
    "execution": {
     "iopub.execute_input": "2021-09-08T21:55:02.719886Z",
     "iopub.status.busy": "2021-09-08T21:55:02.719121Z",
     "iopub.status.idle": "2021-09-08T21:55:02.724942Z",
     "shell.execute_reply": "2021-09-08T21:55:02.724404Z",
     "shell.execute_reply.started": "2021-09-08T21:47:48.362926Z"
    },
    "papermill": {
     "duration": 0.068567,
     "end_time": "2021-09-08T21:55:02.725084",
     "exception": false,
     "start_time": "2021-09-08T21:55:02.656517",
     "status": "completed"
    },
    "tags": []
   },
   "outputs": [
    {
     "data": {
      "text/plain": [
       "11065.34284441855"
      ]
     },
     "execution_count": 40,
     "metadata": {},
     "output_type": "execute_result"
    }
   ],
   "source": [
    "mean_absolute_error(y_test,y_pred)"
   ]
  },
  {
   "cell_type": "code",
   "execution_count": 41,
   "id": "38a09fc6",
   "metadata": {
    "execution": {
     "iopub.execute_input": "2021-09-08T21:55:02.847238Z",
     "iopub.status.busy": "2021-09-08T21:55:02.846457Z",
     "iopub.status.idle": "2021-09-08T21:55:02.850893Z",
     "shell.execute_reply": "2021-09-08T21:55:02.850361Z",
     "shell.execute_reply.started": "2021-09-08T21:47:58.051448Z"
    },
    "papermill": {
     "duration": 0.067835,
     "end_time": "2021-09-08T21:55:02.851042",
     "exception": false,
     "start_time": "2021-09-08T21:55:02.783207",
     "status": "completed"
    },
    "tags": []
   },
   "outputs": [
    {
     "data": {
      "text/plain": [
       "17700.670994484775"
      ]
     },
     "execution_count": 41,
     "metadata": {},
     "output_type": "execute_result"
    }
   ],
   "source": [
    "np.sqrt(mean_squared_error(y_test,y_pred))"
   ]
  },
  {
   "cell_type": "markdown",
   "id": "d64d1737",
   "metadata": {
    "papermill": {
     "duration": 0.058802,
     "end_time": "2021-09-08T21:55:02.967675",
     "exception": false,
     "start_time": "2021-09-08T21:55:02.908873",
     "status": "completed"
    },
    "tags": []
   },
   "source": [
    "# Evaluation"
   ]
  },
  {
   "cell_type": "markdown",
   "id": "8b4e4338",
   "metadata": {
    "papermill": {
     "duration": 0.057784,
     "end_time": "2021-09-08T21:55:03.083876",
     "exception": false,
     "start_time": "2021-09-08T21:55:03.026092",
     "status": "completed"
    },
    "tags": []
   },
   "source": [
    "In order to quantitatively comment on the evaluation of the model, I will be taking the mean of the selling_price and then divide the mean_absolute_error (in this case 11065.34284441855) with the mean of the selling_price."
   ]
  },
  {
   "cell_type": "code",
   "execution_count": 42,
   "id": "c4d52c2c",
   "metadata": {
    "execution": {
     "iopub.execute_input": "2021-09-08T21:55:03.209408Z",
     "iopub.status.busy": "2021-09-08T21:55:03.208469Z",
     "iopub.status.idle": "2021-09-08T21:55:03.213670Z",
     "shell.execute_reply": "2021-09-08T21:55:03.213025Z",
     "shell.execute_reply.started": "2021-09-08T21:50:22.053441Z"
    },
    "papermill": {
     "duration": 0.069362,
     "end_time": "2021-09-08T21:55:03.213818",
     "exception": false,
     "start_time": "2021-09-08T21:55:03.144456",
     "status": "completed"
    },
    "tags": []
   },
   "outputs": [
    {
     "data": {
      "text/plain": [
       "0.20399809443332712"
      ]
     },
     "execution_count": 42,
     "metadata": {},
     "output_type": "execute_result"
    }
   ],
   "source": [
    "11065.34284441855 / np.mean(df['selling_price'])\n"
   ]
  },
  {
   "cell_type": "markdown",
   "id": "0e2e9cea",
   "metadata": {
    "papermill": {
     "duration": 0.065154,
     "end_time": "2021-09-08T21:55:03.339211",
     "exception": false,
     "start_time": "2021-09-08T21:55:03.274057",
     "status": "completed"
    },
    "tags": []
   },
   "source": [
    "So, our model has a roughly 20 % of mean_absolute_error. This means that the model needs to be re-formulated and perhaps some other parameters should be used. Because I believe 20 % is a bit over the tolerable percentage."
   ]
  }
 ],
 "metadata": {
  "kernelspec": {
   "display_name": "Python 3",
   "language": "python",
   "name": "python3"
  },
  "language_info": {
   "codemirror_mode": {
    "name": "ipython",
    "version": 3
   },
   "file_extension": ".py",
   "mimetype": "text/x-python",
   "name": "python",
   "nbconvert_exporter": "python",
   "pygments_lexer": "ipython3",
   "version": "3.7.10"
  },
  "papermill": {
   "default_parameters": {},
   "duration": 27.548001,
   "end_time": "2021-09-08T21:55:04.212704",
   "environment_variables": {},
   "exception": null,
   "input_path": "__notebook__.ipynb",
   "output_path": "__notebook__.ipynb",
   "parameters": {},
   "start_time": "2021-09-08T21:54:36.664703",
   "version": "2.3.3"
  }
 },
 "nbformat": 4,
 "nbformat_minor": 5
}
